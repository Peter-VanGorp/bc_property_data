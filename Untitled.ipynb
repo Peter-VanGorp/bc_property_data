{
 "cells": [
  {
   "cell_type": "code",
   "execution_count": 1,
   "id": "f19e42c5-38c3-4a46-805b-0a9a81a5c00a",
   "metadata": {},
   "outputs": [],
   "source": [
    "import pandas as pd\n",
    "import numpy as np"
   ]
  },
  {
   "cell_type": "code",
   "execution_count": 2,
   "id": "5730ce98-1a7d-4cc5-8983-23630b9afd2b",
   "metadata": {},
   "outputs": [],
   "source": [
    "raw_data = pd.read_csv('2022_municipal_monthly.csv')"
   ]
  },
  {
   "cell_type": "code",
   "execution_count": 3,
   "id": "06689703-47e4-4b49-bbdd-566c6e396de6",
   "metadata": {},
   "outputs": [
    {
     "data": {
      "text/plain": [
       "<bound method NDFrame.head of            DevelopmentRegion RegionalDistrict             Municipality  Year  \\\n",
       "0                    Cariboo     04 - Cariboo  391 - District of Wells  2022   \n",
       "1                    Cariboo     04 - Cariboo  391 - District of Wells  2022   \n",
       "2                    Cariboo     04 - Cariboo  391 - District of Wells  2022   \n",
       "3                    Cariboo     04 - Cariboo  391 - District of Wells  2022   \n",
       "4                    Cariboo     04 - Cariboo  391 - District of Wells  2022   \n",
       "...                      ...              ...                      ...   ...   \n",
       "2911  Vancouver Island/Coast  31 - Strathcona    784 - Courtenay Rural  2022   \n",
       "2912  Vancouver Island/Coast  31 - Strathcona    784 - Courtenay Rural  2022   \n",
       "2913  Vancouver Island/Coast  31 - Strathcona    784 - Courtenay Rural  2022   \n",
       "2914  Vancouver Island/Coast  31 - Strathcona    784 - Courtenay Rural  2022   \n",
       "2915  Vancouver Island/Coast  31 - Strathcona    784 - Courtenay Rural  2022   \n",
       "\n",
       "      Month  tot_mkt_trans  n_res_trans  n_res_1fam  n_res_strata  n_res_fam  \\\n",
       "0         1              0            0           0             0          0   \n",
       "1         2              0            0           0             0          0   \n",
       "2         3              0            0           0             0          0   \n",
       "3         4              0            0           0             0          0   \n",
       "4         5              0            0           0             0          0   \n",
       "...     ...            ...          ...         ...           ...        ...   \n",
       "2911      8              0            0           0             0          0   \n",
       "2912      9              0            0           0             0          0   \n",
       "2913     10              0            0           0             0          0   \n",
       "2914     11              1            1           1             0          0   \n",
       "2915     12              0            0           0             0          0   \n",
       "\n",
       "      ...  md_FMV_foreign_res  n_lt1M_foreign_res  n_gt1M_foreign_res  \\\n",
       "0     ...                   0                   0                   0   \n",
       "1     ...                   0                   0                   0   \n",
       "2     ...                   0                   0                   0   \n",
       "3     ...                   0                   0                   0   \n",
       "4     ...                   0                   0                   0   \n",
       "...   ...                 ...                 ...                 ...   \n",
       "2911  ...                   0                   0                   0   \n",
       "2912  ...                   0                   0                   0   \n",
       "2913  ...                   0                   0                   0   \n",
       "2914  ...                   0                   0                   0   \n",
       "2915  ...                   0                   0                   0   \n",
       "\n",
       "      n_gt3M_foreign_res  add_tax_paid  sum_FMV_foreign  sum_FMV_res  \\\n",
       "0                      0             0                0          0.0   \n",
       "1                      0             0                0          0.0   \n",
       "2                      0             0                0          0.0   \n",
       "3                      0             0                0          0.0   \n",
       "4                      0             0                0          0.0   \n",
       "...                  ...           ...              ...          ...   \n",
       "2911                   0             0                0          0.0   \n",
       "2912                   0             0                0          0.0   \n",
       "2913                   0             0                0          0.0   \n",
       "2914                   0             0                0     172000.0   \n",
       "2915                   0             0                0          0.0   \n",
       "\n",
       "      perc_FMV_foreign_res  sum_invest_foreign_res  perc_invest_foreign_res  \n",
       "0                        0                       0                        0  \n",
       "1                        0                       0                        0  \n",
       "2                        0                       0                        0  \n",
       "3                        0                       0                        0  \n",
       "4                        0                       0                        0  \n",
       "...                    ...                     ...                      ...  \n",
       "2911                     0                       0                        0  \n",
       "2912                     0                       0                        0  \n",
       "2913                     0                       0                        0  \n",
       "2914                     0                       0                        0  \n",
       "2915                     0                       0                        0  \n",
       "\n",
       "[2916 rows x 51 columns]>"
      ]
     },
     "execution_count": 3,
     "metadata": {},
     "output_type": "execute_result"
    }
   ],
   "source": [
    "raw_data.head"
   ]
  },
  {
   "cell_type": "code",
   "execution_count": 4,
   "id": "9d4d95db-e397-4762-b2f2-26510dc307bf",
   "metadata": {},
   "outputs": [
    {
     "data": {
      "text/plain": [
       "Index(['DevelopmentRegion', 'RegionalDistrict', 'Municipality', 'Year',\n",
       "       'Month', 'tot_mkt_trans', 'n_res_trans', 'n_res_1fam', 'n_res_strata',\n",
       "       'n_res_fam', 'n_res_strata_rental', 'n_res_acreage_trans', 'n_res_unkn',\n",
       "       'n_comm_tran', 'n_comm_comm', 'n_comm_strata_nores', 'n_comm_industry',\n",
       "       'n_comm_util', 'n_comm_unkn', 'n_farm_tran', 'n_recr_tran',\n",
       "       'n_forest_tran', 'n_unkn_tran', 'n_fth', 'n_nbh', 'n_tot_corp_tran',\n",
       "       'n_tot_indv_tran', 'sum_FMV', 'mn_FMV', 'md_FMV', 'sum_PPT_paid',\n",
       "       'md_PPT', 'n_foreign_tran', 'n_foreign_res', 'n_foreign_comm',\n",
       "       'n_foreign_oth_unk', 'n_foreign_corp_tran', 'n_foreign_indv_tran',\n",
       "       'perc_n_foreign_res', 'sum_FMV_foreign_res', 'mn_FMV_foreign_res',\n",
       "       'md_FMV_foreign_res', 'n_lt1M_foreign_res', 'n_gt1M_foreign_res',\n",
       "       'n_gt3M_foreign_res', 'add_tax_paid', 'sum_FMV_foreign', 'sum_FMV_res',\n",
       "       'perc_FMV_foreign_res', 'sum_invest_foreign_res',\n",
       "       'perc_invest_foreign_res'],\n",
       "      dtype='object')"
      ]
     },
     "execution_count": 4,
     "metadata": {},
     "output_type": "execute_result"
    }
   ],
   "source": [
    "raw_data.columns"
   ]
  },
  {
   "cell_type": "code",
   "execution_count": null,
   "id": "acf8e00a-5d25-4b2b-821e-6d3cd2e2fb3f",
   "metadata": {},
   "outputs": [],
   "source": []
  }
 ],
 "metadata": {
  "kernelspec": {
   "display_name": "Python 3 (ipykernel)",
   "language": "python",
   "name": "python3"
  },
  "language_info": {
   "codemirror_mode": {
    "name": "ipython",
    "version": 3
   },
   "file_extension": ".py",
   "mimetype": "text/x-python",
   "name": "python",
   "nbconvert_exporter": "python",
   "pygments_lexer": "ipython3",
   "version": "3.8.10"
  }
 },
 "nbformat": 4,
 "nbformat_minor": 5
}
